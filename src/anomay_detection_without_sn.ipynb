{
 "cells": [
  {
   "cell_type": "code",
   "execution_count": 1,
   "metadata": {},
   "outputs": [
    {
     "name": "stderr",
     "output_type": "stream",
     "text": [
      "/opt/conda/lib/python3.8/site-packages/tqdm/auto.py:22: TqdmWarning: IProgress not found. Please update jupyter and ipywidgets. See https://ipywidgets.readthedocs.io/en/stable/user_install.html\n",
      "  from .autonotebook import tqdm as notebook_tqdm\n"
     ]
    }
   ],
   "source": [
    "import torch\n",
    "import torch.nn as nn\n",
    "import matplotlib.pyplot as plt\n",
    "\n",
    "import config as c\n",
    "from model import MLP_Discriminator_wo_SN"
   ]
  },
  {
   "cell_type": "markdown",
   "metadata": {},
   "source": [
    "## モデルの定義と学習済み重みの読み込み"
   ]
  },
  {
   "cell_type": "code",
   "execution_count": 2,
   "metadata": {},
   "outputs": [
    {
     "name": "stdout",
     "output_type": "stream",
     "text": [
      "Dis. on GPU => True\n"
     ]
    },
    {
     "data": {
      "text/plain": [
       "DataParallel(\n",
       "  (module): MLP_Discriminator_wo_SN(\n",
       "    (layer1): Sequential(\n",
       "      (0): Linear(in_features=784, out_features=1024, bias=False)\n",
       "      (1): LeakyReLU(negative_slope=0.2, inplace=True)\n",
       "    )\n",
       "    (layer2): Sequential(\n",
       "      (0): Linear(in_features=1024, out_features=512, bias=False)\n",
       "      (1): LeakyReLU(negative_slope=0.2, inplace=True)\n",
       "    )\n",
       "    (last): Sequential(\n",
       "      (0): Linear(in_features=512, out_features=1, bias=False)\n",
       "    )\n",
       "  )\n",
       ")"
      ]
     },
     "execution_count": 2,
     "metadata": {},
     "output_type": "execute_result"
    }
   ],
   "source": [
    "# weightのpath (0が正常、1が異常で学習済みの重み)\n",
    "weight_path = \"../weights/Dis_highest_performance__iter_1440_epoch_159_without_sn.pth\"\n",
    "\n",
    "# GPU利用可能か否かの判定\n",
    "if torch.cuda.is_available():\n",
    "    device = \"cuda\"\n",
    "else:\n",
    "    device = \"cpu\"\n",
    "\n",
    "# モデル定義\n",
    "D = MLP_Discriminator_wo_SN(in_dim=784)  # in_dim=512\n",
    "\n",
    "# weightの読み込み\n",
    "D.load_state_dict(torch.load(weight_path, map_location=torch.device(device)))\n",
    "\n",
    "D = nn.DataParallel(D, device_ids=[0])\n",
    "print(\"Dis. on GPU => {}\".format(next(D.parameters()).is_cuda))\n",
    "if c.DEVICE == \"cuda\":\n",
    "    torch.backends.cudnn.benchmark = c.CUDNN_BENCH\n",
    "\n",
    "D.eval()"
   ]
  },
  {
   "cell_type": "markdown",
   "metadata": {},
   "source": [
    "## データローダの作成"
   ]
  },
  {
   "cell_type": "code",
   "execution_count": 3,
   "metadata": {},
   "outputs": [
    {
     "name": "stdout",
     "output_type": "stream",
     "text": [
      "../data/ ディレクトリの存在 = True\n"
     ]
    }
   ],
   "source": [
    "import os\n",
    "import torch.utils.data as data\n",
    "from torchvision import transforms, datasets\n",
    "\n",
    "def make_test_dataloader():\n",
    "    nor_cat, ano_cat = c.NORMAL_CATEGOLY, c.ANOMALOUS_CATEGOLY  # config.pyで指定されている\n",
    "    mean, std = c.MEAN, c.STD  # config.pyで指定されている\n",
    "    bs_test = 4  # Testデータのミニバッチサイズ\n",
    "    \n",
    "    path = c.DATASET_PATH  # \"../data\"  # config.pyで指定されている\n",
    "    is_dir = os.path.isdir(path)\n",
    "    print(\"../data/ ディレクトリの存在 = {}\".format(is_dir))\n",
    "    if is_dir:  # もし\"/data\"ディレクトリが無ければ作る\n",
    "        pass\n",
    "    else:\n",
    "        os.makedirs(path)\n",
    "        \n",
    "    dataset =datasets.MNIST(root=path, train=False, download=True,\n",
    "        transform=transforms.Compose([transforms.ToTensor(), transforms.Normalize(mean, std)]))\n",
    "    mask = (dataset.targets == nor_cat) | (dataset.targets == ano_cat)\n",
    "    dataset.data = dataset.data[mask]\n",
    "    dataset.targets = dataset.targets[mask]\n",
    "    \n",
    "    # データローダの作成\n",
    "    dataloader = data.DataLoader(dataset=dataset, batch_size=bs_test, shuffle=True, drop_last=True) # 端数は落とす\n",
    "\n",
    "    return dataloader\n",
    "\n",
    "# create Data Loader\n",
    "dataloader = make_test_dataloader()\n"
   ]
  },
  {
   "cell_type": "markdown",
   "metadata": {},
   "source": [
    "## 画像の読み込みと確認"
   ]
  },
  {
   "cell_type": "code",
   "execution_count": 4,
   "metadata": {},
   "outputs": [
    {
     "name": "stdout",
     "output_type": "stream",
     "text": [
      "torch.Size([4, 1, 28, 28])\n",
      "labels = [0 1 1 0]\n"
     ]
    },
    {
     "data": {
      "image/png": "[encoded data removed]",
      "text/plain": [
       "<Figure size 864x432 with 4 Axes>"
      ]
     },
     "metadata": {
      "needs_background": "light"
     },
     "output_type": "display_data"
    }
   ],
   "source": [
    "# データローダをイテレータに\n",
    "dataiter = iter(dataloader)\n",
    "\n",
    "# 次のミニバッチを取得\n",
    "images, labels = dataiter.next()\n",
    "\n",
    "# 画像表示のための関数定義\n",
    "def show_images(images):\n",
    "    fig = plt.figure(figsize=(12, 6))\n",
    "    for i in range(0, 4):\n",
    "        plt.subplot(2, 4, i+1)\n",
    "        plt.imshow(images[i][0].numpy(), \"gray\")\n",
    "\n",
    "# お試し\n",
    "print(images.size())\n",
    "show_images(images)\n",
    "print(\"labels = {}\".format(labels.numpy()))"
   ]
  },
  {
   "cell_type": "markdown",
   "metadata": {},
   "source": [
    "## 異常検知のための関数定義"
   ]
  },
  {
   "cell_type": "code",
   "execution_count": 5,
   "metadata": {},
   "outputs": [],
   "source": [
    "import time\n",
    "\n",
    "def anomaly_detection(images, D_trained, threshold):\n",
    "    results = [] \n",
    "    time_pred_start = time.time()\n",
    "    \n",
    "    with torch.no_grad():\n",
    "        anomaly_score = - D_trained(images.view(-1, 28*28).to(c.DEVICE))\n",
    "    \n",
    "    time_pred_end = time.time()\n",
    "    pred_time = time_pred_end - time_pred_start\n",
    "    \n",
    "    anomaly_score = anomaly_score.squeeze()\n",
    "    anomaly_score = anomaly_score.cpu().detach().numpy().tolist()\n",
    "    \n",
    "    for i in range(len(anomaly_score)):\n",
    "        if anomaly_score[i] > threshold:\n",
    "            results.append(\"Anomalous\")\n",
    "        else:\n",
    "            results.append(\"Normal\")\n",
    "    \n",
    "    anomaly_score_round = [round(anomaly_score[n], 5) for n in range(len(anomaly_score))] \n",
    "    print(\"Anomaly Scores : {}\".format(anomaly_score_round))\n",
    "    print(\"Results        : {}\".format(results))\n",
    "    print(\"Pred time: {:.6f} sec\".format(pred_time))\n",
    "    \n",
    "    return anomaly_score\n"
   ]
  },
  {
   "cell_type": "markdown",
   "metadata": {},
   "source": [
    "# 異常検知"
   ]
  },
  {
   "cell_type": "code",
   "execution_count": 8,
   "metadata": {},
   "outputs": [
    {
     "name": "stdout",
     "output_type": "stream",
     "text": [
      "labels = [0 1 1 0]\n",
      "Anomaly Scores : [-0.54933, 2.35587, 1.81555, -0.7637]\n",
      "Results        : ['Normal', 'Anomalous', 'Anomalous', 'Normal']\n",
      "Pred time: 0.001607 sec\n"
     ]
    },
    {
     "data": {
      "image/png": "[encoded data removed]",
      "text/plain": [
       "<Figure size 864x432 with 4 Axes>"
      ]
     },
     "metadata": {
      "needs_background": "light"
     },
     "output_type": "display_data"
    }
   ],
   "source": [
    "######### 異常スコアの閾値設定 #########\n",
    "threshold = 0.0\n",
    "######################################\n",
    "\n",
    "# 次のミニバッチを取得\n",
    "images, labels = dataiter.next()\n",
    "\n",
    "# 画像表示\n",
    "show_images(images)\n",
    "# MNISTのラベル表示\n",
    "print(\"labels = {}\".format(labels.numpy()))\n",
    "# 異常検知(0が正常、1が異常)\n",
    "score = anomaly_detection(images, D, threshold=threshold)"
   ]
  }
 ],
 "metadata": {
  "kernelspec": {
   "display_name": "Python 3.8.13 ('base')",
   "language": "python",
   "name": "python3"
  },
  "language_info": {
   "codemirror_mode": {
    "name": "ipython",
    "version": 3
   },
   "file_extension": ".py",
   "mimetype": "text/x-python",
   "name": "python",
   "nbconvert_exporter": "python",
   "pygments_lexer": "ipython3",
   "version": "3.8.13"
  },
  "orig_nbformat": 4,
  "vscode": {
   "interpreter": {
    "hash": "d4d1e4263499bec80672ea0156c357c1ee493ec2b1c70f0acce89fc37c4a6abe"
   }
  }
 },
 "nbformat": 4,
 "nbformat_minor": 2
}
